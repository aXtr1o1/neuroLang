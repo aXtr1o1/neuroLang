{
 "cells": [
  {
   "cell_type": "code",
   "execution_count": 1,
   "metadata": {},
   "outputs": [],
   "source": [
    "from transformers import GPT2Tokenizer, GPT2LMHeadModel"
   ]
  },
  {
   "cell_type": "code",
   "execution_count": 3,
   "metadata": {},
   "outputs": [],
   "source": [
    "tokenizer = GPT2Tokenizer.from_pretrained(\"gpt2\")\n",
    "model = GPT2LMHeadModel.from_pretrained(\"gpt2\")"
   ]
  },
  {
   "cell_type": "code",
   "execution_count": 4,
   "metadata": {},
   "outputs": [],
   "source": [
    "def outStuff(question, max_length=100):\n",
    "  prompt = \"Answer to the question \" + question + \" is: \"\n",
    "  input_ids = tokenizer.encode(prompt, return_tensors=\"pt\")\n",
    "  beamOut = model.generate(input_ids, max_length=max_length, num_beams=5)\n",
    "  outAns = tokenizer.decode(beamOut[0], skip_special_tokens=True)\n",
    "  return outAns"
   ]
  },
  {
   "cell_type": "code",
   "execution_count": 6,
   "metadata": {},
   "outputs": [
    {
     "name": "stderr",
     "output_type": "stream",
     "text": [
      "The attention mask and the pad token id were not set. As a consequence, you may observe unexpected behavior. Please pass your input's `attention_mask` to obtain reliable results.\n",
      "Setting `pad_token_id` to `eos_token_id`:50256 for open-end generation.\n"
     ]
    },
    {
     "data": {
      "text/plain": [
       "'Answer to the question What is 1 + 1? is: \\xa01 + 1 = \\xa01 + 1 = \\xa01 + 1 = \\xa01 + 1 = \\xa01 + 1 = \\xa01 + 1 = \\xa01 + 1 = \\xa01 + 1 = \\xa01 + 1 = \\xa01 + 1 = \\xa01 + 1 = \\xa01 + 1 = \\xa01 + 1 = \\xa01 + 1 = \\xa01 +'"
      ]
     },
     "execution_count": 6,
     "metadata": {},
     "output_type": "execute_result"
    }
   ],
   "source": [
    "outStuff(\"What is 1 + 1 ?\")"
   ]
  },
  {
   "cell_type": "code",
   "execution_count": null,
   "metadata": {},
   "outputs": [],
   "source": []
  }
 ],
 "metadata": {
  "kernelspec": {
   "display_name": "Python 3",
   "language": "python",
   "name": "python3"
  },
  "language_info": {
   "codemirror_mode": {
    "name": "ipython",
    "version": 3
   },
   "file_extension": ".py",
   "mimetype": "text/x-python",
   "name": "python",
   "nbconvert_exporter": "python",
   "pygments_lexer": "ipython3",
   "version": "3.9.13"
  }
 },
 "nbformat": 4,
 "nbformat_minor": 2
}
