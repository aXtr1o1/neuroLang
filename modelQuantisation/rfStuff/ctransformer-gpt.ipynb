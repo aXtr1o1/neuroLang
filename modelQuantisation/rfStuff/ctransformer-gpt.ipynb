{
 "cells": [
  {
   "cell_type": "code",
   "execution_count": 1,
   "metadata": {},
   "outputs": [],
   "source": [
    "from ctransformers import AutoModelForCausalLM\n",
    "import time"
   ]
  },
  {
   "cell_type": "code",
   "execution_count": 2,
   "metadata": {},
   "outputs": [],
   "source": [
    "import psutil \n",
    "\n",
    "def get_memory_usage(process_name):\n",
    "    for proc in psutil.process_iter(['name', 'memory_info']):\n",
    "        if proc.info['name'] == process_name:\n",
    "            memory_info = proc.info['memory_info']\n",
    "            return memory_info.rss / (1024 ** 2)  # Convert bytes to MB\n",
    "    return None"
   ]
  },
  {
   "cell_type": "code",
   "execution_count": 3,
   "metadata": {},
   "outputs": [
    {
     "data": {
      "application/vnd.jupyter.widget-view+json": {
       "model_id": "0ed1507f038d444c9ac08b7b5264e751",
       "version_major": 2,
       "version_minor": 0
      },
      "text/plain": [
       "Fetching 1 files:   0%|          | 0/1 [00:00<?, ?it/s]"
      ]
     },
     "metadata": {},
     "output_type": "display_data"
    },
    {
     "data": {
      "application/vnd.jupyter.widget-view+json": {
       "model_id": "afb8774595074d2f8ce38276885b3a98",
       "version_major": 2,
       "version_minor": 0
      },
      "text/plain": [
       "Fetching 1 files:   0%|          | 0/1 [00:00<?, ?it/s]"
      ]
     },
     "metadata": {},
     "output_type": "display_data"
    }
   ],
   "source": [
    "llm = AutoModelForCausalLM.from_pretrained('marella/gpt-2-ggml')"
   ]
  },
  {
   "cell_type": "code",
   "execution_count": 4,
   "metadata": {},
   "outputs": [
    {
     "name": "stdout",
     "output_type": "stream",
     "text": [
      " be a big part of the future.\n",
      "The first thing that I want to say about this project, and what it means for me personally, are two things: 1) It's not just an idea; 2), we're working on something new! We've been talking with some really great people in our community who have worked hard at making a game like the one you see here.\n",
      "We want to make this project as fun and exciting as possible for everyone involved, including ourselves. That means creating beautiful content that's engaging but not just interesting (or so we hope) on all platforms: Steam Greenlight! And in case there is any question about how long it will take us before our next release?\n",
      "As of now, this project has been made and tested with over 300 players around the world. This includes both traditional fans as well many more who are working at indie developers or hobbyists that don't really play video games much but like to learn from some amazing folks! So you're sure not only have fun playing these new videos for your friends, they will also love what we've created here in a very cool and innovative way.\n",
      "You can read our interview with Dan Felske at GamesIndustry International where he explains how the project has been\n",
      "Time Taken:  3.1187679767608643\n",
      "Memory usage of Code.exe: 93.32 MB\n"
     ]
    }
   ],
   "source": [
    "st_time = time.time()\n",
    "print(llm('AI is going to '))\n",
    "end_time = time.time()\n",
    "print(\"Time Taken: \",end_time-st_time)\n",
    "\n",
    "process_name = \"Code.exe\"  # Process name for Visual Studio Code (Windows)\n",
    "memory_usage = get_memory_usage(process_name)\n",
    "\n",
    "if memory_usage is not None:\n",
    "    print(f\"Memory usage of {process_name}: {memory_usage:.2f} MB\")\n",
    "else:\n",
    "    print(f\"{process_name} is not running.\")"
   ]
  }
 ],
 "metadata": {
  "kernelspec": {
   "display_name": "Python 3",
   "language": "python",
   "name": "python3"
  },
  "language_info": {
   "codemirror_mode": {
    "name": "ipython",
    "version": 3
   },
   "file_extension": ".py",
   "mimetype": "text/x-python",
   "name": "python",
   "nbconvert_exporter": "python",
   "pygments_lexer": "ipython3",
   "version": "3.9.13"
  }
 },
 "nbformat": 4,
 "nbformat_minor": 2
}
