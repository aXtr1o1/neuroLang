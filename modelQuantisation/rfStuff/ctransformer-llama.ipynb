{
 "cells": [
  {
   "cell_type": "code",
   "execution_count": 2,
   "metadata": {},
   "outputs": [],
   "source": [
    "from ctransformers import AutoModelForCausalLM\n",
    "import time"
   ]
  },
  {
   "cell_type": "markdown",
   "metadata": {},
   "source": [
    "# Llama 2 7B Model - GGML \n",
    "## 8 Bit Quantized"
   ]
  },
  {
   "cell_type": "code",
   "execution_count": 3,
   "metadata": {},
   "outputs": [
    {
     "data": {
      "application/vnd.jupyter.widget-view+json": {
       "model_id": "8c85f40f373e42db9d02236ed6c7a180",
       "version_major": 2,
       "version_minor": 0
      },
      "text/plain": [
       "Fetching 1 files:   0%|          | 0/1 [00:00<?, ?it/s]"
      ]
     },
     "metadata": {},
     "output_type": "display_data"
    },
    {
     "data": {
      "application/vnd.jupyter.widget-view+json": {
       "model_id": "ed71ecae73024112af7b028ecb566015",
       "version_major": 2,
       "version_minor": 0
      },
      "text/plain": [
       "Fetching 1 files:   0%|          | 0/1 [00:00<?, ?it/s]"
      ]
     },
     "metadata": {},
     "output_type": "display_data"
    }
   ],
   "source": [
    "llm8 = AutoModelForCausalLM.from_pretrained('TheBloke/Llama-2-7B-Chat-GGML', model_file='llama-2-7b-chat.ggmlv3.q8_0.bin')"
   ]
  },
  {
   "cell_type": "code",
   "execution_count": 4,
   "metadata": {},
   "outputs": [
    {
     "name": "stdout",
     "output_type": "stream",
     "text": [
      "Model: Llama 2 7B Parameter\n",
      "QUantization: 8 Bit Quantization\n",
      "CPU: Intel i5 11th Gen\n",
      "\n",
      "\n",
      "\n",
      "\n",
      " Prompt: 'What is life?'\n"
     ]
    }
   ],
   "source": [
    "print(\"Model: Llama 2 7B Parameter\")\n",
    "print(\"QUantization: 8 Bit Quantization\")\n",
    "print(\"CPU: Intel i5 11th Gen\")\n",
    "print(\"\\n\\n\\n\\n\",\"Prompt: 'What is life?'\")\n"
   ]
  },
  {
   "cell_type": "code",
   "execution_count": 6,
   "metadata": {},
   "outputs": [
    {
     "name": "stdout",
     "output_type": "stream",
     "text": [
      " The question has puzzled philosophers, scientists, and theologians for centuries. While there are many different perspectives on what constitutes life, most definitions share some common elements. Here are some key features of life:\n",
      "1. Organization: Living things are composed of cells, which are the basic structural and functional units of life. Cells are highly organized structures that contain genetic material (DNA or RNA) and are capable of reproducing themselves.\n",
      "2. Metabolism: Living things carry out a variety of chemical reactions that allow them to grow, maintain their structure, and respond to their environment. These reactions involve the breakdown and synthesis of organic molecules, such as carbohydrates, proteins, and fats.\n",
      "3. Homeostasis: Living things are able to maintain a stable internal environment despite changes in the external environment. This is achieved through a variety of mechanisms, including the regulation of temperature, pH, and the concentration of essential nutrients and waste products.\n",
      "4. Growth and Development: Living things have the ability to grow and develop, which involves an increase in size and complexity. This is often accompanied by changes in their physical\n",
      "\n",
      "\n",
      "Time Taken to respond:  60.32701826095581\n"
     ]
    }
   ],
   "source": [
    "st_time = time.time()\n",
    "prompt = \"What is life?\"\n",
    "\n",
    "for word in llm8(prompt, stream=True):\n",
    "    print(word, end='')\n",
    "\n",
    "end_time = time.time()\n",
    "print(\"\\n\\n\")\n",
    "\n",
    "print(\"Time Taken to respond: \",end_time-st_time)\n"
   ]
  },
  {
   "cell_type": "markdown",
   "metadata": {},
   "source": [
    "# Llama 2 7B Model - GGML \n",
    "## 4 Bit Quantized"
   ]
  },
  {
   "cell_type": "code",
   "execution_count": null,
   "metadata": {},
   "outputs": [
    {
     "data": {
      "application/vnd.jupyter.widget-view+json": {
       "model_id": "996107ea5cef4ef483794509ebfcf3e9",
       "version_major": 2,
       "version_minor": 0
      },
      "text/plain": [
       "Fetching 1 files:   0%|          | 0/1 [00:00<?, ?it/s]"
      ]
     },
     "metadata": {},
     "output_type": "display_data"
    },
    {
     "data": {
      "application/vnd.jupyter.widget-view+json": {
       "model_id": "3f9c0b2201b042e0923282973e502774",
       "version_major": 2,
       "version_minor": 0
      },
      "text/plain": [
       "Fetching 1 files:   0%|          | 0/1 [00:00<?, ?it/s]"
      ]
     },
     "metadata": {},
     "output_type": "display_data"
    }
   ],
   "source": [
    "llm4 = AutoModelForCausalLM.from_pretrained('TheBloke/Llama-2-7B-Chat-GGML', model_file='llama-2-7b-chat.ggmlv3.q4_K_S.bin')"
   ]
  },
  {
   "cell_type": "code",
   "execution_count": null,
   "metadata": {},
   "outputs": [
    {
     "name": "stdout",
     "output_type": "stream",
     "text": [
      "Model: Llama 2 7B Parameter\n",
      "QUantization: 4 Bit Quantization\n",
      "CPU: Intel i5 11th Gen\n",
      "\n",
      "\n",
      "\n",
      "\n",
      " Prompt: 'What is life?'\n",
      "\n"
     ]
    }
   ],
   "source": [
    "print(\"Model: Llama 2 7B Parameter\")\n",
    "print(\"QUantization: 4 Bit Quantization\")\n",
    "print(\"CPU: Intel i5 11th Gen\")\n",
    "print(\"\\n\\n\\n\\n\",\"Prompt: 'What is life?'\")\n",
    "print()\n"
   ]
  },
  {
   "cell_type": "code",
   "execution_count": null,
   "metadata": {},
   "outputs": [
    {
     "name": "stdout",
     "output_type": "stream",
     "text": [
      " What is the meaning of life? These are some of the most profound and fundamental questions that humans have asked throughout history. Life, in its broadest sense, refers to the condition or quality of being alive; it includes plants, animals, bacteria, and other organisms as well as humans. However, when we talk about the meaning of life, we are referring to something more abstract and complex.\n",
      "The meaning of life is a philosophical and existential question that seeks to understand why we are here, what our purpose is, and what gives our lives significance. It is a deeply personal and subjective experience; it differs for each individual, culture, and historical period. The answers may be based on beliefs, values, experiences, or emotions, and they may also evolve over time as we grow and mature.\n",
      "Some possible answers to the question of the meaning of life include:\n",
      "To love and be loved\n",
      "To achieve happiness or well-being\n",
      "To fulfill one's potential or purpose\n",
      "To make a positive impact on the world\n",
      "To create art, literature, music, or other creative works\n",
      "To contribute to society, either through work, volunteering, or activism.\n",
      "While these\n",
      "\n",
      "\n",
      "Time Taken to respond:  58.16688847541809\n"
     ]
    }
   ],
   "source": [
    "st_time = time.time()\n",
    "prompt = \"What is life?\"\n",
    "\n",
    "for word in llm4(prompt, stream=True):\n",
    "    print(word, end='')\n",
    "\n",
    "end_time = time.time()\n",
    "print(\"\\n\\n\")\n",
    "\n",
    "print(\"Time Taken to respond: \",end_time-st_time)"
   ]
  }
 ],
 "metadata": {
  "kernelspec": {
   "display_name": "Python 3",
   "language": "python",
   "name": "python3"
  },
  "language_info": {
   "codemirror_mode": {
    "name": "ipython",
    "version": 3
   },
   "file_extension": ".py",
   "mimetype": "text/x-python",
   "name": "python",
   "nbconvert_exporter": "python",
   "pygments_lexer": "ipython3",
   "version": "3.9.13"
  }
 },
 "nbformat": 4,
 "nbformat_minor": 2
}
